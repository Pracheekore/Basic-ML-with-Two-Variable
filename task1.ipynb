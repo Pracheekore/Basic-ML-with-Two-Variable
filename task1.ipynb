{
  "nbformat": 4,
  "nbformat_minor": 0,
  "metadata": {
    "colab": {
      "name": "task1.ipynb",
      "provenance": [],
      "collapsed_sections": [],
      "authorship_tag": "ABX9TyPpS0EpLrXcaD47q/LmxNxj",
      "include_colab_link": true
    },
    "kernelspec": {
      "name": "python3",
      "display_name": "Python 3"
    },
    "language_info": {
      "name": "python"
    }
  },
  "cells": [
    {
      "cell_type": "markdown",
      "metadata": {
        "id": "view-in-github",
        "colab_type": "text"
      },
      "source": [
        "<a href=\"https://colab.research.google.com/github/Pracheekore/Basic-ML-with-Two-Variable/blob/main/task1.ipynb\" target=\"_parent\"><img src=\"https://colab.research.google.com/assets/colab-badge.svg\" alt=\"Open In Colab\"/></a>"
      ]
    },
    {
      "cell_type": "markdown",
      "source": [
        "# **Linear Regression with Simple Statistics**"
      ],
      "metadata": {
        "id": "izoDRfc5qUZg"
      }
    },
    {
      "cell_type": "markdown",
      "source": [
        "In this section we will see how simple Statistics can be use for machine learning by Some PYTHON LIBRARIES and can be used to implement\n",
        "regression functions. We will start with simple linear regression involving two variables."
      ],
      "metadata": {
        "id": "vxbxl4EErciK"
      }
    },
    {
      "cell_type": "markdown",
      "source": [
        "# **Simple Linear Regression**"
      ],
      "metadata": {
        "id": "5hfsBqPnr1A8"
      }
    },
    {
      "cell_type": "markdown",
      "source": [
        "In this regression task we will predict the percentage of marks that a student is expected to score based upon the number of hours they\n",
        "studied. This is a simple linear regression task as it involves just two variables.\n",
        "This Method of Prediction is inspired from book - An Introduction to Statistical Learning with Applications in R By Gareth James, Daniela Witten,\n",
        "Trevor Hastie, Robert Tibshirani.\n"
      ],
      "metadata": {
        "id": "ry-Su9BosAI_"
      }
    },
    {
      "cell_type": "markdown",
      "source": [
        "AUTHOR = PRACHEE KORE"
      ],
      "metadata": {
        "id": "5zkdvLOC5o65"
      }
    },
    {
      "cell_type": "code",
      "source": [
        "#importing essentials\n",
        "import numpy as np\n",
        "import pandas as pd\n",
        "import matplotlib.pyplot as plt\n",
        "import seaborn as sns"
      ],
      "metadata": {
        "id": "DkzdNZpG57sj"
      },
      "execution_count": null,
      "outputs": []
    },
    {
      "cell_type": "markdown",
      "source": [
        "Writing the Functions for β1 and  β0"
      ],
      "metadata": {
        "id": "oUAwTnBr6L4N"
      }
    },
    {
      "cell_type": "code",
      "source": [
        "#calculating BETA 1\n",
        "def calculate_BETA_one(x,y):\n",
        "  x_mean = np.mean(x) \n",
        "  y_mean = np.mean(y)\n",
        "\n",
        "  numerator = np.sum(x * y - y_mean*x)\n",
        "  denominator = np.sum( x**2 - x_mean * x )\n",
        "\n",
        "  beta_one = numerator / denominator\n",
        "\n",
        "  return beta_one"
      ],
      "metadata": {
        "id": "F0cbb2IV68V0"
      },
      "execution_count": null,
      "outputs": []
    },
    {
      "cell_type": "code",
      "source": [
        "#calculating BETA 0\n",
        "def calculate_BETA_zero(x,y):\n",
        "  x_mean= np.mean(x)                   # x bar\n",
        "  y_mean = np.mean(y)                  # y bar\n",
        "\n",
        "  beta_zero = (y_mean - (calculate_BETA_one(x,y) * x_mean))\n",
        "\n",
        "  return beta_zero"
      ],
      "metadata": {
        "id": "3UWK2idJ8geO"
      },
      "execution_count": null,
      "outputs": []
    },
    {
      "cell_type": "markdown",
      "source": [
        "Writing a Function for Formula\n",
        "\n",
        "Y^\n",
        "i = β0 + β1xi"
      ],
      "metadata": {
        "id": "76_LfDUe9iUb"
      }
    },
    {
      "cell_type": "code",
      "source": [
        "#A function for Y to be Predicted\n",
        "def predict_y(x,y,x_new):\n",
        "  y_predicted = calculate_BETA_zero(x,y) + calculate_BETA_one(x,y) * x_new\n",
        "  \n",
        "  return y_predicted\n"
      ],
      "metadata": {
        "id": "Ln_SXxV797GU"
      },
      "execution_count": null,
      "outputs": []
    },
    {
      "cell_type": "code",
      "source": [
        "def plot_line(slope , intercept , x_min , x_max):\n",
        "  x_values = np.arange(x_min , x_max)\n",
        "\n",
        "  y_values = intercept + slope * x_values\n",
        "\n",
        "  plt.plot(x_values , y_values , color = 'y')"
      ],
      "metadata": {
        "id": "RIyJw54g-I7K"
      },
      "execution_count": null,
      "outputs": []
    },
    {
      "cell_type": "markdown",
      "source": [
        "# **Training dataset**"
      ],
      "metadata": {
        "id": "30W2SYSzBBHM"
      }
    },
    {
      "cell_type": "code",
      "source": [
        "df=pd.read_csv('http://bit.ly/w-data')\n",
        "print(\"Data Imported Succesfully\")\n",
        "df.head(10)"
      ],
      "metadata": {
        "colab": {
          "base_uri": "https://localhost:8080/",
          "height": 380
        },
        "id": "2SEYC8sZDFNQ",
        "outputId": "c84f1d00-a614-4c82-d48b-43877a9315bb"
      },
      "execution_count": null,
      "outputs": [
        {
          "output_type": "stream",
          "name": "stdout",
          "text": [
            "Data Imported Succesfully\n"
          ]
        },
        {
          "output_type": "execute_result",
          "data": {
            "text/html": [
              "\n",
              "  <div id=\"df-caed7606-1705-4f53-a9e8-e9de329d3443\">\n",
              "    <div class=\"colab-df-container\">\n",
              "      <div>\n",
              "<style scoped>\n",
              "    .dataframe tbody tr th:only-of-type {\n",
              "        vertical-align: middle;\n",
              "    }\n",
              "\n",
              "    .dataframe tbody tr th {\n",
              "        vertical-align: top;\n",
              "    }\n",
              "\n",
              "    .dataframe thead th {\n",
              "        text-align: right;\n",
              "    }\n",
              "</style>\n",
              "<table border=\"1\" class=\"dataframe\">\n",
              "  <thead>\n",
              "    <tr style=\"text-align: right;\">\n",
              "      <th></th>\n",
              "      <th>Hours</th>\n",
              "      <th>Scores</th>\n",
              "    </tr>\n",
              "  </thead>\n",
              "  <tbody>\n",
              "    <tr>\n",
              "      <th>0</th>\n",
              "      <td>2.5</td>\n",
              "      <td>21</td>\n",
              "    </tr>\n",
              "    <tr>\n",
              "      <th>1</th>\n",
              "      <td>5.1</td>\n",
              "      <td>47</td>\n",
              "    </tr>\n",
              "    <tr>\n",
              "      <th>2</th>\n",
              "      <td>3.2</td>\n",
              "      <td>27</td>\n",
              "    </tr>\n",
              "    <tr>\n",
              "      <th>3</th>\n",
              "      <td>8.5</td>\n",
              "      <td>75</td>\n",
              "    </tr>\n",
              "    <tr>\n",
              "      <th>4</th>\n",
              "      <td>3.5</td>\n",
              "      <td>30</td>\n",
              "    </tr>\n",
              "    <tr>\n",
              "      <th>5</th>\n",
              "      <td>1.5</td>\n",
              "      <td>20</td>\n",
              "    </tr>\n",
              "    <tr>\n",
              "      <th>6</th>\n",
              "      <td>9.2</td>\n",
              "      <td>88</td>\n",
              "    </tr>\n",
              "    <tr>\n",
              "      <th>7</th>\n",
              "      <td>5.5</td>\n",
              "      <td>60</td>\n",
              "    </tr>\n",
              "    <tr>\n",
              "      <th>8</th>\n",
              "      <td>8.3</td>\n",
              "      <td>81</td>\n",
              "    </tr>\n",
              "    <tr>\n",
              "      <th>9</th>\n",
              "      <td>2.7</td>\n",
              "      <td>25</td>\n",
              "    </tr>\n",
              "  </tbody>\n",
              "</table>\n",
              "</div>\n",
              "      <button class=\"colab-df-convert\" onclick=\"convertToInteractive('df-caed7606-1705-4f53-a9e8-e9de329d3443')\"\n",
              "              title=\"Convert this dataframe to an interactive table.\"\n",
              "              style=\"display:none;\">\n",
              "        \n",
              "  <svg xmlns=\"http://www.w3.org/2000/svg\" height=\"24px\"viewBox=\"0 0 24 24\"\n",
              "       width=\"24px\">\n",
              "    <path d=\"M0 0h24v24H0V0z\" fill=\"none\"/>\n",
              "    <path d=\"M18.56 5.44l.94 2.06.94-2.06 2.06-.94-2.06-.94-.94-2.06-.94 2.06-2.06.94zm-11 1L8.5 8.5l.94-2.06 2.06-.94-2.06-.94L8.5 2.5l-.94 2.06-2.06.94zm10 10l.94 2.06.94-2.06 2.06-.94-2.06-.94-.94-2.06-.94 2.06-2.06.94z\"/><path d=\"M17.41 7.96l-1.37-1.37c-.4-.4-.92-.59-1.43-.59-.52 0-1.04.2-1.43.59L10.3 9.45l-7.72 7.72c-.78.78-.78 2.05 0 2.83L4 21.41c.39.39.9.59 1.41.59.51 0 1.02-.2 1.41-.59l7.78-7.78 2.81-2.81c.8-.78.8-2.07 0-2.86zM5.41 20L4 18.59l7.72-7.72 1.47 1.35L5.41 20z\"/>\n",
              "  </svg>\n",
              "      </button>\n",
              "      \n",
              "  <style>\n",
              "    .colab-df-container {\n",
              "      display:flex;\n",
              "      flex-wrap:wrap;\n",
              "      gap: 12px;\n",
              "    }\n",
              "\n",
              "    .colab-df-convert {\n",
              "      background-color: #E8F0FE;\n",
              "      border: none;\n",
              "      border-radius: 50%;\n",
              "      cursor: pointer;\n",
              "      display: none;\n",
              "      fill: #1967D2;\n",
              "      height: 32px;\n",
              "      padding: 0 0 0 0;\n",
              "      width: 32px;\n",
              "    }\n",
              "\n",
              "    .colab-df-convert:hover {\n",
              "      background-color: #E2EBFA;\n",
              "      box-shadow: 0px 1px 2px rgba(60, 64, 67, 0.3), 0px 1px 3px 1px rgba(60, 64, 67, 0.15);\n",
              "      fill: #174EA6;\n",
              "    }\n",
              "\n",
              "    [theme=dark] .colab-df-convert {\n",
              "      background-color: #3B4455;\n",
              "      fill: #D2E3FC;\n",
              "    }\n",
              "\n",
              "    [theme=dark] .colab-df-convert:hover {\n",
              "      background-color: #434B5C;\n",
              "      box-shadow: 0px 1px 3px 1px rgba(0, 0, 0, 0.15);\n",
              "      filter: drop-shadow(0px 1px 2px rgba(0, 0, 0, 0.3));\n",
              "      fill: #FFFFFF;\n",
              "    }\n",
              "  </style>\n",
              "\n",
              "      <script>\n",
              "        const buttonEl =\n",
              "          document.querySelector('#df-caed7606-1705-4f53-a9e8-e9de329d3443 button.colab-df-convert');\n",
              "        buttonEl.style.display =\n",
              "          google.colab.kernel.accessAllowed ? 'block' : 'none';\n",
              "\n",
              "        async function convertToInteractive(key) {\n",
              "          const element = document.querySelector('#df-caed7606-1705-4f53-a9e8-e9de329d3443');\n",
              "          const dataTable =\n",
              "            await google.colab.kernel.invokeFunction('convertToInteractive',\n",
              "                                                     [key], {});\n",
              "          if (!dataTable) return;\n",
              "\n",
              "          const docLinkHtml = 'Like what you see? Visit the ' +\n",
              "            '<a target=\"_blank\" href=https://colab.research.google.com/notebooks/data_table.ipynb>data table notebook</a>'\n",
              "            + ' to learn more about interactive tables.';\n",
              "          element.innerHTML = '';\n",
              "          dataTable['output_type'] = 'display_data';\n",
              "          await google.colab.output.renderOutput(dataTable, element);\n",
              "          const docLink = document.createElement('div');\n",
              "          docLink.innerHTML = docLinkHtml;\n",
              "          element.appendChild(docLink);\n",
              "        }\n",
              "      </script>\n",
              "    </div>\n",
              "  </div>\n",
              "  "
            ],
            "text/plain": [
              "   Hours  Scores\n",
              "0    2.5      21\n",
              "1    5.1      47\n",
              "2    3.2      27\n",
              "3    8.5      75\n",
              "4    3.5      30\n",
              "5    1.5      20\n",
              "6    9.2      88\n",
              "7    5.5      60\n",
              "8    8.3      81\n",
              "9    2.7      25"
            ]
          },
          "metadata": {},
          "execution_count": 11
        }
      ]
    },
    {
      "cell_type": "markdown",
      "source": [
        "# **Plotting Training DATA**"
      ],
      "metadata": {
        "id": "fXlvmtfZDXab"
      }
    },
    {
      "cell_type": "code",
      "source": [
        "fig , ax = plt.subplots(figsize = (10,7))\n",
        "ax.scatter('Hours' , 'Scores' , data =df)\n",
        "ax.set_xlabel('Hours', fontsize = 25)\n",
        "ax.set_ylabel('Scores', fontsize = 25)\n",
        "ax.set_title('Hours v/s Scores Graph' , fontsize = 25)"
      ],
      "metadata": {
        "colab": {
          "base_uri": "https://localhost:8080/",
          "height": 498
        },
        "id": "tz51DjBQE4zu",
        "outputId": "dd37a14e-0321-4a68-f385-0a5bfed578e8"
      },
      "execution_count": null,
      "outputs": [
        {
          "output_type": "execute_result",
          "data": {
            "text/plain": [
              "Text(0.5, 1.0, 'Hours v/s Scores Graph')"
            ]
          },
          "metadata": {},
          "execution_count": 12
        },
        {
          "output_type": "display_data",
          "data": {
            "image/png": "[encoded data removed]",
            "text/plain": [
              "<Figure size 720x504 with 1 Axes>"
            ]
          },
          "metadata": {
            "needs_background": "light"
          }
        }
      ]
    },
    {
      "cell_type": "markdown",
      "source": [
        "## **Implementing LINEAR REGRESSION On this Training Dataset**"
      ],
      "metadata": {
        "id": "kw2geCJKGt_n"
      }
    },
    {
      "cell_type": "markdown",
      "source": [
        "Converting Values in x & y"
      ],
      "metadata": {
        "id": "eWnfu8YgG5ED"
      }
    },
    {
      "cell_type": "code",
      "source": [
        "x = df['Hours'].values\n",
        "y = df['Scores'].values\n",
        "print(x)\n",
        "print(y)\n"
      ],
      "metadata": {
        "colab": {
          "base_uri": "https://localhost:8080/"
        },
        "id": "6fWC-CITHGp5",
        "outputId": "fd2ab8c6-34d7-4dc8-f609-e8c6d46f0dbb"
      },
      "execution_count": null,
      "outputs": [
        {
          "output_type": "stream",
          "name": "stdout",
          "text": [
            "[2.5 5.1 3.2 8.5 3.5 1.5 9.2 5.5 8.3 2.7 7.7 5.9 4.5 3.3 1.1 8.9 2.5 1.9\n",
            " 6.1 7.4 2.7 4.8 3.8 6.9 7.8]\n",
            "[21 47 27 75 30 20 88 60 81 25 85 62 41 42 17 95 30 24 67 69 30 54 35 76\n",
            " 86]\n"
          ]
        }
      ]
    },
    {
      "cell_type": "markdown",
      "source": [
        "calculating beta_one and beta_zero"
      ],
      "metadata": {
        "id": "lNzXA8bxHdHn"
      }
    },
    {
      "cell_type": "code",
      "source": [
        "BETA_1 = float(calculate_BETA_one(x,y))\n",
        "BETA_0 = float(calculate_BETA_zero(x,y))"
      ],
      "metadata": {
        "id": "N_8zdBgSHikU"
      },
      "execution_count": null,
      "outputs": []
    },
    {
      "cell_type": "code",
      "source": [
        "print(BETA_1)\n",
        "print(BETA_0)"
      ],
      "metadata": {
        "colab": {
          "base_uri": "https://localhost:8080/"
        },
        "id": "PyW2L01EIAhk",
        "outputId": "b6a2e7d8-ff06-4d77-a018-e4719a503fb3"
      },
      "execution_count": null,
      "outputs": [
        {
          "output_type": "stream",
          "name": "stdout",
          "text": [
            "9.775803390787468\n",
            "2.48367340537321\n"
          ]
        }
      ]
    },
    {
      "cell_type": "markdown",
      "source": [
        "# **Training Completed**"
      ],
      "metadata": {
        "id": "IOl0IYmtIVkh"
      }
    },
    {
      "cell_type": "markdown",
      "source": [
        "Plotting Slope"
      ],
      "metadata": {
        "id": "Cj47TNY1Iaht"
      }
    },
    {
      "cell_type": "code",
      "source": [
        "fig , ax = plt.subplots(figsize = (10,7))\n",
        "plot_line(BETA_1, BETA_0, np.min(x), np.max(x))\n",
        "ax.scatter('Hours', 'Scores' , data=df)\n",
        "ax.set_xlabel('Hours' , fontsize = 15)\n",
        "ax.set_ylabel('Scores' , fontsize = 15)"
      ],
      "metadata": {
        "colab": {
          "base_uri": "https://localhost:8080/",
          "height": 464
        },
        "id": "d1sKkcQaImsx",
        "outputId": "ab509cb7-10f3-4226-c0bd-f8b38df24d13"
      },
      "execution_count": null,
      "outputs": [
        {
          "output_type": "execute_result",
          "data": {
            "text/plain": [
              "Text(0, 0.5, 'Scores')"
            ]
          },
          "metadata": {},
          "execution_count": 16
        },
        {
          "output_type": "display_data",
          "data": {
            "image/png": "[encoded data removed]",
            "text/plain": [
              "<Figure size 720x504 with 1 Axes>"
            ]
          },
          "metadata": {
            "needs_background": "light"
          }
        }
      ]
    },
    {
      "cell_type": "markdown",
      "source": [
        "# **Making Predictions**"
      ],
      "metadata": {
        "id": "j8S2Ek-eLWYM"
      }
    },
    {
      "cell_type": "code",
      "source": [
        "x_new = 9.25\n",
        "predict_y(x,y,x_new)"
      ],
      "metadata": {
        "colab": {
          "base_uri": "https://localhost:8080/"
        },
        "id": "_nM2c3CML5DN",
        "outputId": "86f6a868-5a0b-4808-9a95-7f8afcb79916"
      },
      "execution_count": null,
      "outputs": [
        {
          "output_type": "execute_result",
          "data": {
            "text/plain": [
              "92.9098547701573"
            ]
          },
          "metadata": {},
          "execution_count": 17
        }
      ]
    },
    {
      "cell_type": "code",
      "source": [
        "print(\"No. Of Hours: \" , x_new)\n",
        "print(\"Score Predicted: \" , predict_y(x,y,x_new))"
      ],
      "metadata": {
        "colab": {
          "base_uri": "https://localhost:8080/"
        },
        "id": "bRjQjuGGMB4k",
        "outputId": "fc64d616-b23b-478c-d454-2c40111b7cb3"
      },
      "execution_count": null,
      "outputs": [
        {
          "output_type": "stream",
          "name": "stdout",
          "text": [
            "No. Of Hours:  9.25\n",
            "Score Predicted:  92.9098547701573\n"
          ]
        }
      ]
    },
    {
      "cell_type": "markdown",
      "source": [
        "# **Calculating Error in predicted values**"
      ],
      "metadata": {
        "id": "ML6buO2bMP7A"
      }
    },
    {
      "cell_type": "code",
      "source": [
        "x_for_error = x\n",
        "predict_y(x,y,x_for_error)"
      ],
      "metadata": {
        "colab": {
          "base_uri": "https://localhost:8080/"
        },
        "id": "Q1iSJOps7JrI",
        "outputId": "e5b3eafb-62de-4f97-be1d-a97aecc88c49"
      },
      "execution_count": null,
      "outputs": [
        {
          "output_type": "execute_result",
          "data": {
            "text/plain": [
              "array([26.92318188, 52.3402707 , 33.76624426, 85.57800223, 36.69898527,\n",
              "       17.14737849, 92.4210646 , 56.25059205, 83.62284155, 28.87834256,\n",
              "       77.75735951, 60.16091341, 46.47478866, 34.74382459, 13.23705714,\n",
              "       89.48832358, 26.92318188, 21.05769985, 62.11607409, 74.8246185 ,\n",
              "       28.87834256, 49.40752968, 39.63172629, 69.9367168 , 78.73493985])"
            ]
          },
          "metadata": {},
          "execution_count": 19
        }
      ]
    },
    {
      "cell_type": "code",
      "source": [
        "error = np.mean( (y - predict_y(x,y,x_for_error))**2)\n",
        "print(\" The Error is : \" , np.sqrt(error))"
      ],
      "metadata": {
        "colab": {
          "base_uri": "https://localhost:8080/"
        },
        "id": "bg_oL5VJ_To6",
        "outputId": "9d527cf8-2fb0-4dc8-c02f-0a8608ca9ebf"
      },
      "execution_count": null,
      "outputs": [
        {
          "output_type": "stream",
          "name": "stdout",
          "text": [
            " The Error is :  5.374265578592619\n"
          ]
        }
      ]
    }
  ]
}